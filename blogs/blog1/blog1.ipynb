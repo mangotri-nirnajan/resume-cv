{
  "cells": [
    {
      "cell_type": "raw",
      "metadata": {},
      "source": [
        "---\n",
        "title: \"Blog-1: Probability theory and random variables\"\n",
        "author: \"niranjan\"\n",
        "date: \"2023-11-29\"\n",
        "categories: [code, analysis]\n",
        "---"
      ],
      "id": "8036d097"
    },
    {
      "cell_type": "markdown",
      "metadata": {},
      "source": [
        "**Gaining Insights into Diabetes with Data Science**\n",
        "\n",
        "**Introduction** \\*\\* Topic: Probability theory and random variables\"\n"
      ],
      "id": "427432cf"
    },
    {
      "cell_type": "code",
      "metadata": {},
      "source": [
        "#Diabetes impacts millions globally. In this blog, we'll use Python to analyze a diabetes dataset, visualize key features, and build a predictive model with logistic regression. Join me on this journey into the data to uncover insights that could inform diabetes care and research."
      ],
      "id": "a635c2db",
      "execution_count": null,
      "outputs": []
    },
    {
      "cell_type": "markdown",
      "metadata": {},
      "source": [
        "**Exploring the Dataset**\n"
      ],
      "id": "a1e75439"
    },
    {
      "cell_type": "code",
      "metadata": {},
      "source": [
        "import pandas as pd\n",
        "import numpy as np\n",
        "import matplotlib.pyplot as plt\n",
        "import seaborn as sns\n",
        "from sklearn.model_selection import train_test_split\n",
        "from sklearn.linear_model import LogisticRegression\n",
        "df=pd.read_csv(\"diabetes.csv\")\n",
        "df.head()\n",
        "df.info()\n",
        "df.describe(include='all')\n",
        "print('Duplication')\n",
        "df.duplicated().sum()\n",
        "df.isnull().sum()"
      ],
      "id": "b17b05dc",
      "execution_count": null,
      "outputs": []
    },
    {
      "cell_type": "code",
      "metadata": {},
      "source": [
        "#Exploratory Data Analysis"
      ],
      "id": "4842a25c",
      "execution_count": null,
      "outputs": []
    },
    {
      "cell_type": "code",
      "metadata": {},
      "source": [
        "plt.xlabel(\"BMI\")\n",
        "plt.ylabel('count')\n",
        "plt.figure(figsize=(6,6),facecolor='red',edgecolor='black',clear=False)\n",
        "a=sns.countplot(x=df['Outcome'],data=df)\n",
        "for ax in a.containers:\n",
        "    a.bar_label(ax)"
      ],
      "id": "1f43090b",
      "execution_count": null,
      "outputs": []
    },
    {
      "cell_type": "code",
      "metadata": {},
      "source": [
        "#Pregnencies count"
      ],
      "id": "b590be98",
      "execution_count": null,
      "outputs": []
    },
    {
      "cell_type": "code",
      "metadata": {},
      "source": [
        "plt.xlabel(\"Pregnencies\")\n",
        "plt.ylabel('count')\n",
        "plt.figure(figsize=(6,6),facecolor='yellow',edgecolor='black',clear=False)\n",
        "b=sns.countplot(x=df['Pregnancies'],data=df)\n",
        "for ax1 in b.containers:\n",
        "    b.bar_label(ax1)"
      ],
      "id": "3617d671",
      "execution_count": null,
      "outputs": []
    },
    {
      "cell_type": "code",
      "metadata": {},
      "source": [
        "#from the observation we can tell that many women have only 1 pregnency   "
      ],
      "id": "c894754f",
      "execution_count": null,
      "outputs": []
    },
    {
      "cell_type": "code",
      "metadata": {},
      "source": [
        "plt.xlabel(\"Outcome\")\n",
        "plt.ylabel('Pregnency')\n",
        "plt.figure(figsize=(6,6),facecolor='orange',edgecolor='black',clear=False)\n",
        "c=sns.barplot(x=df['Outcome'],y=df['Pregnancies'],data=df)\n",
        "for ax in c.containers:\n",
        "   c.bar_label(ax)"
      ],
      "id": "77d02ae9",
      "execution_count": null,
      "outputs": []
    },
    {
      "cell_type": "code",
      "metadata": {},
      "source": [
        "df=pd.read_csv(\"diabetes.csv\")\n",
        "df\n",
        "plt.figure(figsize=(10,10),facecolor='orange',edgecolor='Black',clear=True)\n",
        "a=sns.heatmap(df.corr(),annot=True,fmt='.1g',linewidths=0.5)\n",
        "a"
      ],
      "id": "ea30ca6b",
      "execution_count": null,
      "outputs": []
    },
    {
      "cell_type": "code",
      "metadata": {},
      "source": [
        "X=df.drop('Outcome',axis=1)\n",
        "Y=df.Outcome\n",
        "X\n",
        "Y\n",
        "X_train,X_test,Y_train,Y_test=train_test_split(X,Y,test_size=0.2)\n",
        "X_train\n",
        "X_test\n",
        "Y_train\n",
        "Y_test"
      ],
      "id": "a599114d",
      "execution_count": null,
      "outputs": []
    },
    {
      "cell_type": "code",
      "metadata": {},
      "source": [
        "import warnings\n",
        "warnings.filterwarnings(\"ignore\")\n",
        "lr=LogisticRegression()\n",
        "lr.fit(X_train,Y_train)\n",
        "lr.predict(X_test)\n",
        "lr.predict([[1,200,100,20,200,28,0.3,30]])\n",
        "\n",
        "lr.score(X_test,Y_test)\n",
        "lr.predict_proba(X_test)\n",
        "lr.coef_\n",
        "lr.intercept_"
      ],
      "id": "47a041c7",
      "execution_count": null,
      "outputs": []
    },
    {
      "cell_type": "markdown",
      "metadata": {},
      "source": [
        "**Conclusion**\n"
      ],
      "id": "01e2596a"
    },
    {
      "cell_type": "code",
      "metadata": {},
      "source": [
        "#This exploration shows how data science techniques like visualization and modeling can unlock insights from diabetes data. There are many opportunities to further analyze this data and extract meaningful patterns to inform care and quality of life."
      ],
      "id": "86d99379",
      "execution_count": null,
      "outputs": []
    }
  ],
  "metadata": {
    "kernelspec": {
      "display_name": "Python 3",
      "language": "python",
      "name": "python3"
    }
  },
  "nbformat": 4,
  "nbformat_minor": 5
}